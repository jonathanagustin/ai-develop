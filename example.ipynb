{
 "cells": [
  {
   "cell_type": "code",
   "execution_count": null,
   "metadata": {},
   "outputs": [],
   "source": [
    "# Convert ipynb to PDF\n",
    "!jupyter nbconvert --to pdf example.ipynb"
   ]
  },
  {
   "cell_type": "code",
   "execution_count": null,
   "metadata": {},
   "outputs": [],
   "source": [
    "import platform\n",
    "import os\n",
    "import sys\n",
    "\n",
    "print(f\"Python Interpreter: {sys.executable}\")\n",
    "print(f\"Python Version: {platform.python_version()}\")\n",
    "print()\n",
    "print(f\"Working Directory: {os.getcwd()}\")\n",
    "print()\n",
    "print(f\"Platform\")\n",
    "print(f\"    System: {platform.system()}\")\n",
    "print(f\"    Release: {platform.release()}\")\n",
    "print(f\"    Version: {platform.version()}\")"
   ]
  },
  {
   "cell_type": "code",
   "execution_count": null,
   "metadata": {},
   "outputs": [],
   "source": [
    "import matplotlib.pyplot as plt\n",
    "import pandas as pd\n",
    "\n",
    "# LOAD\n",
    "url = \"https://raw.githubusercontent.com/datasciencedojo/datasets/master/titanic.csv\"\n",
    "titanic = pd.read_csv(url)\n",
    "\n",
    "# PREPARE\n",
    "survived = titanic[titanic['Survived'] == 1]['Age'].dropna()\n",
    "not_survived = titanic[titanic['Survived'] == 0]['Age'].dropna()\n",
    "\n",
    "# VISUALIZE\n",
    "fig, ax = plt.subplots()\n",
    "ax.violinplot([survived, not_survived], showmeans=True)\n",
    "ax.set_xticks([1, 2])\n",
    "ax.set_xticklabels(['Survived', 'Not Survived'])\n",
    "ax.set_ylabel('Age')\n",
    "ax.set_title('Violin Plot using Matplotlib')\n",
    "plt.show()\n"
   ]
  },
  {
   "cell_type": "code",
   "execution_count": null,
   "metadata": {},
   "outputs": [],
   "source": [
    "import matplotlib.pyplot as plt\n",
    "import seaborn as sns\n",
    "\n",
    "# LOAD\n",
    "titanic = sns.load_dataset(\"titanic\")\n",
    "\n",
    "# VISUALIZE\n",
    "sns.violinplot(x=\"survived\", y=\"age\", data=titanic, inner=\"quartile\")\n",
    "plt.xlabel(\"Survived\")\n",
    "plt.ylabel(\"Age\")\n",
    "plt.title(\"Violin Plot using Seaborn\")\n",
    "plt.show()"
   ]
  }
 ],
 "metadata": {
  "kernelspec": {
   "display_name": "base",
   "language": "python",
   "name": "python3"
  },
  "language_info": {
   "codemirror_mode": {
    "name": "ipython",
    "version": 3
   },
   "file_extension": ".py",
   "mimetype": "text/x-python",
   "name": "python",
   "nbconvert_exporter": "python",
   "pygments_lexer": "ipython3",
   "version": "3.8.16"
  },
  "orig_nbformat": 4
 },
 "nbformat": 4,
 "nbformat_minor": 2
}
