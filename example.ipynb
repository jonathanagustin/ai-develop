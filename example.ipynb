{
 "cells": [
  {
   "attachments": {},
   "cell_type": "markdown",
   "metadata": {},
   "source": [
    "## How To Convert Notebook to PDF\n",
    "\n",
    "1. Press `Ctrl+Shift+P` (or `Cmd+Shift+P` on macOS) to open the command palette.\n",
    "\n",
    "1. Type `Jupyter: Export to PDF` and press `Enter`."
   ]
  },
  {
   "cell_type": "code",
   "execution_count": null,
   "metadata": {},
   "outputs": [],
   "source": [
    "import platform\n",
    "import os\n",
    "import sys\n",
    "\n",
    "print(f\"Python Interpreter: {sys.executable}\")\n",
    "print(f\"Python Version: {platform.python_version()}\")\n",
    "print()\n",
    "print(f\"Working Directory: {os.getcwd()}\")\n",
    "print()\n",
    "print(f\"Platform\")\n",
    "print(f\"    System: {platform.system()}\")\n",
    "print(f\"    Release: {platform.release()}\")\n",
    "print(f\"    Version: {platform.version()}\")"
   ]
  }
 ],
 "metadata": {
  "kernelspec": {
   "display_name": "base",
   "language": "python",
   "name": "python3"
  },
  "language_info": {
   "codemirror_mode": {
    "name": "ipython",
    "version": 3
   },
   "file_extension": ".py",
   "mimetype": "text/x-python",
   "name": "python",
   "nbconvert_exporter": "python",
   "pygments_lexer": "ipython3",
   "version": "3.10.8"
  },
  "orig_nbformat": 4
 },
 "nbformat": 4,
 "nbformat_minor": 2
}
