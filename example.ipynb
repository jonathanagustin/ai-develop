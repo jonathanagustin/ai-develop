{
 "cells": [
  {
   "cell_type": "code",
   "execution_count": null,
   "metadata": {},
   "outputs": [],
   "source": [
    "# Convert ipynb to PDF\n",
    "!jupyter nbconvert --to pdf example.ipynb"
   ]
  },
  {
   "cell_type": "code",
   "execution_count": null,
   "metadata": {},
   "outputs": [],
   "source": [
    "import platform\n",
    "import os\n",
    "import sys\n",
    "%matplotlib inline\n",
    "\n",
    "print(f\"Python Interpreter: {sys.executable}\")\n",
    "print(f\"Python Version: {platform.python_version()}\")\n",
    "print()\n",
    "print(f\"Working Directory: {os.getcwd()}\")\n",
    "print()\n",
    "print(f\"Platform\")\n",
    "print(f\"    System: {platform.system()}\")\n",
    "print(f\"    Release: {platform.release()}\")\n",
    "print(f\"    Version: {platform.version()}\")"
   ]
  },
  {
   "cell_type": "code",
   "execution_count": null,
   "metadata": {},
   "outputs": [
    {
     "ename": "",
     "evalue": "",
     "output_type": "error",
     "traceback": [
      "\u001b[1;31mRunning cells with 'base' requires the ipykernel package.\n",
      "\u001b[1;31mRun the following command to install 'ipykernel' into the Python environment. \n",
      "\u001b[1;31mCommand: 'conda install -n base ipykernel --update-deps --force-reinstall'"
     ]
    }
   ],
   "source": [
    "import matplotlib.pyplot as plt\n",
    "import pandas as pd\n",
    "\n",
    "# LOAD\n",
    "url = \"https://raw.githubusercontent.com/datasciencedojo/datasets/master/titanic.csv\"\n",
    "titanic = pd.read_csv(url)\n",
    "\n",
    "# PREPARE\n",
    "survived = titanic[titanic['Survived'] == 1]['Age'].dropna()\n",
    "not_survived = titanic[titanic['Survived'] == 0]['Age'].dropna()\n",
    "\n",
    "# VISUALIZE\n",
    "fig, ax = plt.subplots()\n",
    "ax.violinplot([survived, not_survived], showmeans=True)\n",
    "ax.set_xticks([1, 2])\n",
    "ax.set_xticklabels(['Survived', 'Not Survived'])\n",
    "ax.set_ylabel('Age')\n",
    "ax.set_title('Violin Plot using Matplotlib')\n",
    "plt.show()\n"
   ]
  },
  {
   "cell_type": "code",
   "execution_count": null,
   "metadata": {},
   "outputs": [
    {
     "ename": "",
     "evalue": "",
     "output_type": "error",
     "traceback": [
      "\u001b[1;31mRunning cells with 'base' requires the ipykernel package.\n",
      "\u001b[1;31mRun the following command to install 'ipykernel' into the Python environment. \n",
      "\u001b[1;31mCommand: 'conda install -n base ipykernel --update-deps --force-reinstall'"
     ]
    }
   ],
   "source": [
    "import matplotlib.pyplot as plt\n",
    "import seaborn as sns\n",
    "\n",
    "# LOAD\n",
    "titanic = sns.load_dataset(\"titanic\")\n",
    "\n",
    "# VISUALIZE\n",
    "sns.violinplot(x=\"survived\", y=\"age\", data=titanic, inner=\"quartile\")\n",
    "plt.xlabel(\"Survived\")\n",
    "plt.ylabel(\"Age\")\n",
    "plt.title(\"Violin Plot using Seaborn\")\n",
    "plt.show()"
   ]
  }
 ],
 "metadata": {
  "kernelspec": {
   "display_name": "base",
   "language": "python",
   "name": "python3"
  },
  "language_info": {
   "codemirror_mode": {
    "name": "ipython",
    "version": 3
   },
   "file_extension": ".py",
   "mimetype": "text/x-python",
   "name": "python",
   "nbconvert_exporter": "python",
   "pygments_lexer": "ipython3",
   "version": "3.10.8"
  },
  "orig_nbformat": 4
 },
 "nbformat": 4,
 "nbformat_minor": 2
}
