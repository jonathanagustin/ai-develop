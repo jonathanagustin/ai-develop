{
 "cells": [
  {
   "cell_type": "code",
   "execution_count": 2,
   "metadata": {},
   "outputs": [
    {
     "name": "stdout",
     "output_type": "stream",
     "text": [
      "Python Interpreter: /workspaces/ai-develop/.venv/bin/python\n",
      "Python Version: 3.8.16\n",
      "\n",
      "Working Directory: /workspaces/ai-develop\n",
      "\n",
      "Platform\n",
      "    System: Linux\n",
      "    Release: 5.4.0-1106-azure\n",
      "    Version: #112~18.04.1-Ubuntu SMP Wed Mar 29 20:36:22 UTC 2023\n"
     ]
    }
   ],
   "source": [
    "import platform\n",
    "import os\n",
    "import sys\n",
    "\n",
    "print(f\"Python Interpreter: {sys.executable}\")\n",
    "print(f\"Python Version: {platform.python_version()}\")\n",
    "print()\n",
    "print(f\"Working Directory: {os.getcwd()}\")\n",
    "print()\n",
    "print(f\"Platform\")\n",
    "print(f\"    System: {platform.system()}\")\n",
    "print(f\"    Release: {platform.release()}\")\n",
    "print(f\"    Version: {platform.version()}\")"
   ]
  },
  {
   "cell_type": "code",
   "execution_count": 3,
   "metadata": {},
   "outputs": [],
   "source": [
    "import seaborn as sns\n",
    "import numpy as np\n",
    "\n",
    "sns.load_dataset(\"titanic\")\n"
   ]
  }
 ],
 "metadata": {
  "kernelspec": {
   "display_name": "base",
   "language": "python",
   "name": "python3"
  },
  "language_info": {
   "codemirror_mode": {
    "name": "ipython",
    "version": 3
   },
   "file_extension": ".py",
   "mimetype": "text/x-python",
   "name": "python",
   "nbconvert_exporter": "python",
   "pygments_lexer": "ipython3",
   "version": "3.8.16"
  },
  "orig_nbformat": 4
 },
 "nbformat": 4,
 "nbformat_minor": 2
}
